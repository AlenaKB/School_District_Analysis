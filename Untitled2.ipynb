{
 "cells": [
  {
   "cell_type": "code",
   "execution_count": null,
   "metadata": {},
   "outputs": [],
   "source": [
    "scores_to_fix = scores_to_fix.set_index([\"school_name\"])\n",
    "scores_to_fix = scores_to_fix[scores_to_fix[\"grade\"] == \"9th\"]\n",
    "for score in scores_to_fix[\"reading_score\"] & [\"math_score\"]:\n",
    "    scores_to_fix.replace(score, \"NaN\")\n",
    "scores_to_fix\n",
    "\n",
    "for score in scores_to_fix_df[\"math_score\"]:\n",
    "    scores_to_fix_df[\"math_score\"] = np.nan\n",
    "for score in scores_to_fix_df[\"reading_score\"]:\n",
    "    scores_to_fix_df[\"reading_score\"] = np.nan\n",
    "scores_to_fix\n",
    "\n",
    "scores_df = pd.DataFrame()\n",
    "scores_df = student_data_df.loc[student_data_df[\"school_name\"] == \"Thomas High School\"]\n",
    "scores_df = scores_df.loc[scores_df[\"grade\"] == \"9th\"]\n",
    "student_id = scores_df[\"Student ID\"] \n",
    "scores_df[\"math_score\"] = np.nan\n",
    "scores_df[\"reading_score\"] = np.nan\n",
    "names_to_update = scores_df[\"Student ID\"].tolist()\n",
    "\n",
    "names_to_update"
   ]
  }
 ],
 "metadata": {
  "kernelspec": {
   "display_name": "PythonData",
   "language": "python",
   "name": "pythondata"
  },
  "language_info": {
   "codemirror_mode": {
    "name": "ipython",
    "version": 3
   },
   "file_extension": ".py",
   "mimetype": "text/x-python",
   "name": "python",
   "nbconvert_exporter": "python",
   "pygments_lexer": "ipython3",
   "version": "3.6.9"
  }
 },
 "nbformat": 4,
 "nbformat_minor": 2
}
